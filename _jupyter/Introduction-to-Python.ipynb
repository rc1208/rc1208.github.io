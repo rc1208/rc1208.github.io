{
 "cells": [
  {
   "cell_type": "code",
   "execution_count": 3,
   "metadata": {},
   "outputs": [
    {
     "name": "stdout",
     "output_type": "stream",
     "text": [
      "3.6.5 |Anaconda custom (64-bit)| (default, Apr 26 2018, 08:42:37) \n",
      "[GCC 4.2.1 Compatible Clang 4.0.1 (tags/RELEASE_401/final)]\n"
     ]
    }
   ],
   "source": [
    "__author__ = \"Rahul Chowdhury\"\n",
    "import sys\n",
    "print(sys.version) # Using python 3.6 and custom Anaconda environment."
   ]
  },
  {
   "cell_type": "markdown",
   "metadata": {},
   "source": [
    "### Helpful links\n",
    "1. To learn more how to setting up enivornments using Anaconda:  [Setting up a Conda Environment](https://conda.io/docs/user-guide/tasks/manage-environments.html) <br>\n",
    "2. Great article showing why you should set up a python environment: [click here](https://medium.freecodecamp.org/why-you-need-python-environments-and-how-to-manage-them-with-conda-85f155f4353c)\n",
    "3. Install Python package manager called [pip](www.https://pip.pypa.io/en/stable)\n",
    "4. A very nice article to learn how to make pretty plots in matplotlib: [click here](https://www.datascience.com/learn-data-science/tutorials/creating-data-visualizations-matplotlib-data-science-python)"
   ]
  },
  {
   "cell_type": "markdown",
   "metadata": {},
   "source": [
    "Let's start like how every coding tutorial begins. A \"Hello World\" in Python!"
   ]
  },
  {
   "cell_type": "code",
   "execution_count": 4,
   "metadata": {},
   "outputs": [
    {
     "name": "stdout",
     "output_type": "stream",
     "text": [
      "Hello World!\n"
     ]
    }
   ],
   "source": [
    "print(\"Hello World!\") "
   ]
  },
  {
   "cell_type": "markdown",
   "metadata": {},
   "source": [
    "**Tip #1:** If you are using Jupyter notebook, you can run every cell by hitting Enter + Shift button"
   ]
  },
  {
   "cell_type": "markdown",
   "metadata": {},
   "source": [
    "### Variables in Python"
   ]
  },
  {
   "cell_type": "code",
   "execution_count": 16,
   "metadata": {},
   "outputs": [],
   "source": [
    "a = 1 #int\n",
    "b = 1.1 #float\n",
    "c = \"Rahul\" #string\n",
    "d = [1,4,9,16] #list\n",
    "e = True #boolean\n",
    "f = {\"Dog\":1,\"Cat\":0} #dictionary"
   ]
  },
  {
   "cell_type": "markdown",
   "metadata": {},
   "source": [
    "### In Built Functions in Python <br>\n",
    "Let's explore some of the existing functions in Python. Note: For some of the functions, you may need to import the corresponding library. You can do that by using - *import* library_name"
   ]
  },
  {
   "cell_type": "code",
   "execution_count": 8,
   "metadata": {},
   "outputs": [
    {
     "data": {
      "text/plain": [
       "10"
      ]
     },
     "execution_count": 8,
     "metadata": {},
     "output_type": "execute_result"
    }
   ],
   "source": [
    "abs(-10) #returns the absolute value"
   ]
  },
  {
   "cell_type": "code",
   "execution_count": 9,
   "metadata": {},
   "outputs": [
    {
     "data": {
      "text/plain": [
       "16"
      ]
     },
     "execution_count": 9,
     "metadata": {},
     "output_type": "execute_result"
    }
   ],
   "source": [
    "max(d) #returns max from 'd' list defined above"
   ]
  },
  {
   "cell_type": "code",
   "execution_count": 10,
   "metadata": {},
   "outputs": [
    {
     "data": {
      "text/plain": [
       "{'Rahul': 24, 'Bob': 50}"
      ]
     },
     "execution_count": 10,
     "metadata": {},
     "output_type": "execute_result"
    }
   ],
   "source": [
    "age = dict([('Rahul', 24), ('Bob', 50)]) # Another way: age = {'Rahul':24, 'Bob': 50}\n",
    "age\n"
   ]
  },
  {
   "cell_type": "markdown",
   "metadata": {},
   "source": [
    "### User Defined Functions in Python"
   ]
  },
  {
   "cell_type": "markdown",
   "metadata": {},
   "source": [
    "But, what if you need to make a custom function for your own needs. Maybe you want to add two numbers, break down a string or a function called TrickorTreat that generates candies? Let's generate that function because everyone wants candies!"
   ]
  },
  {
   "cell_type": "code",
   "execution_count": 13,
   "metadata": {},
   "outputs": [
    {
     "name": "stdout",
     "output_type": "stream",
     "text": [
      "You got 45 candies!\n"
     ]
    }
   ],
   "source": [
    "import random #library for a generating a random number\n",
    "\n",
    "def TrickorTreat():\n",
    "    return random.randint(0,100) #generate number of candies from 0 to 100\n",
    "\n",
    "print(\"You got\", TrickorTreat(), \"candies!\")"
   ]
  },
  {
   "cell_type": "markdown",
   "metadata": {},
   "source": [
    "### Basic Plotting using Matlpotlib"
   ]
  },
  {
   "cell_type": "code",
   "execution_count": 21,
   "metadata": {},
   "outputs": [],
   "source": [
    "import matplotlib.pyplot as plt\n",
    "import numpy as np #library for creating neat scientific computing\n",
    "# and helpful data structures such as  multidimensional arrays and matrices\n",
    "#so that plots are inline in a Jupyter notebook\n",
    "%matplotlib inline "
   ]
  },
  {
   "cell_type": "code",
   "execution_count": 41,
   "metadata": {},
   "outputs": [],
   "source": [
    "# Set some parameters to apply to all plots. These can be overridden\n",
    "# in each plot if desired\n",
    "import matplotlib\n",
    "# Plot size to 14\" x 7\"\n",
    "matplotlib.rc('figure', figsize = (12, 6))\n",
    "# Font size to 14\n",
    "matplotlib.rc('font', size = 14)\n",
    "# Add grid lines\n",
    "matplotlib.rc('axes', grid = True)\n",
    "# Set backgound color to white\n",
    "matplotlib.rc('axes', facecolor = 'white')\n"
   ]
  },
  {
   "cell_type": "code",
   "execution_count": 42,
   "metadata": {},
   "outputs": [],
   "source": [
    "x = np.arange(0,100,1) #create an array from 0 to 100 with step size 1\n",
    "y = [i*i for i in range(0,100)] #list having square of numbers from 0 to 100"
   ]
  },
  {
   "cell_type": "code",
   "execution_count": 45,
   "metadata": {},
   "outputs": [
    {
     "data": {
      "image/png": "[encoded data removed]",
      "text/plain": [
       "<Figure size 864x432 with 1 Axes>"
      ]
     },
     "metadata": {},
     "output_type": "display_data"
    }
   ],
   "source": [
    "plt.plot(x, y, color='#E96F6C', linewidth=2)\n",
    "plt.xlabel(\"Numbers\")\n",
    "plt.ylabel(\"Squares\")\n",
    "plt.title(\"Numbers Vs. Squares\")\n",
    "plt.show() #A plot to visualize the relation between numbers and their respective squares"
   ]
  },
  {
   "cell_type": "code",
   "execution_count": null,
   "metadata": {},
   "outputs": [],
   "source": []
  }
 ],
 "metadata": {
  "kernelspec": {
   "display_name": "Python 3",
   "language": "python",
   "name": "python3"
  },
  "language_info": {
   "codemirror_mode": {
    "name": "ipython",
    "version": 3
   },
   "file_extension": ".py",
   "mimetype": "text/x-python",
   "name": "python",
   "nbconvert_exporter": "python",
   "pygments_lexer": "ipython3",
   "version": "3.6.5"
  }
 },
 "nbformat": 4,
 "nbformat_minor": 2
}
